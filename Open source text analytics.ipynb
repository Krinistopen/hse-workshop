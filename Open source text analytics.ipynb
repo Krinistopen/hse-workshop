{
 "cells": [
  {
   "cell_type": "code",
   "execution_count": null,
   "metadata": {},
   "outputs": [],
   "source": [
    "!pip install -U tensorflow-text"
   ]
  },
  {
   "cell_type": "code",
   "execution_count": null,
   "metadata": {},
   "outputs": [],
   "source": [
    "!git clone -l -s https://github.com/Krinistopen/hse-workshop.git\n",
    "%cd hse-workshop\n",
    "!ls"
   ]
  },
  {
   "cell_type": "code",
   "execution_count": 37,
   "metadata": {},
   "outputs": [],
   "source": [
    "# import tensorflow_hub as hub\n",
    "# import tensorflow as tf\n",
    "import numpy as np\n",
    "# import tensorflow_text\n",
    "# from google.colab import files\n",
    "import pandas as pd\n",
    "\n",
    "from sklearn.naive_bayes import GaussianNB, BernoulliNB\n",
    "from sklearn.svm import SVC\n",
    "from sklearn.linear_model import LogisticRegressionCV\n",
    "from sklearn.model_selection import train_test_split\n",
    "from sklearn.metrics import precision_recall_fscore_support as prfs"
   ]
  },
  {
   "cell_type": "code",
   "execution_count": null,
   "metadata": {},
   "outputs": [],
   "source": [
    "embed = hub.load(\"https://tfhub.dev/google/universal-sentence-encoder-multilingual/3\")"
   ]
  },
  {
   "cell_type": "code",
   "execution_count": null,
   "metadata": {},
   "outputs": [],
   "source": [
    "data = pd.read_csv('data.csv', sep=';')\n",
    "text_var = 'text'\n",
    "class_var = 'mark'"
   ]
  },
  {
   "cell_type": "code",
   "execution_count": null,
   "metadata": {},
   "outputs": [],
   "source": [
    "data.head() "
   ]
  },
  {
   "cell_type": "code",
   "execution_count": null,
   "metadata": {},
   "outputs": [],
   "source": [
    "df = data[class_var].value_counts(normalize=True) * 100\n",
    "df.plot.bar(x=class_var)"
   ]
  },
  {
   "cell_type": "code",
   "execution_count": null,
   "metadata": {},
   "outputs": [],
   "source": [
    "data = data[(data[class_var] != -1)]"
   ]
  },
  {
   "cell_type": "code",
   "execution_count": null,
   "metadata": {},
   "outputs": [],
   "source": [
    "marks_new = []\n",
    "for i, mark in enumerate(data[class_var]):\n",
    "    if mark == 2:\n",
    "        marks_new.append(1)\n",
    "    else:\n",
    "        marks_new.append(mark)\n",
    "class_var = 'class_new'\n",
    "data[class_var] = marks_new\n",
    "del marks_new"
   ]
  },
  {
   "cell_type": "code",
   "execution_count": null,
   "metadata": {},
   "outputs": [],
   "source": [
    "train_vol = 0.7"
   ]
  },
  {
   "cell_type": "code",
   "execution_count": null,
   "metadata": {},
   "outputs": [],
   "source": [
    "train, test = train_test_split(data, train_size = train_vol, random_state = 99, stratify = data[class_var])\n",
    "train = train.drop_duplicates(subset=[text_var])"
   ]
  },
  {
   "cell_type": "code",
   "execution_count": null,
   "metadata": {},
   "outputs": [],
   "source": [
    "check = []\n",
    "train_data = train[text_var].tolist()\n",
    "for text in test[text_var]:\n",
    "    if text not in train_data:\n",
    "        check.append('KEEP')\n",
    "    else:\n",
    "        check.append('IGNORE')\n",
    "test['check'] = check\n",
    "test = test.loc[test['check'] == 'KEEP']\n",
    "test = test.drop(['check'], axis=1)\n",
    "del check"
   ]
  },
  {
   "cell_type": "code",
   "execution_count": null,
   "metadata": {},
   "outputs": [],
   "source": [
    "train_embeddings = []\n",
    "for text in train_data:\n",
    "    embedding = embed(str(text))[0]\n",
    "    train_embeddings.append(embedding)"
   ]
  },
  {
   "cell_type": "code",
   "execution_count": null,
   "metadata": {},
   "outputs": [],
   "source": [
    "test_embeddings = []\n",
    "for text in test[text_var]:\n",
    "    embedding = embed(str(text))[0]\n",
    "    test_embeddings.append(embedding)"
   ]
  },
  {
   "cell_type": "code",
   "execution_count": null,
   "metadata": {},
   "outputs": [],
   "source": [
    "# nbg = GaussianNB()\n",
    "# nbb = BernoulliNB()\n",
    "# lg = LogisticRegressionCV(cv=5, multi_class='ovr', max_iter=1200)\n",
    "svm = SVC(kernel='poly', gamma='scale', probability=True)"
   ]
  },
  {
   "cell_type": "code",
   "execution_count": null,
   "metadata": {},
   "outputs": [],
   "source": [
    "classes = train[class_var].tolist()\n",
    "classes_to_check = test[class_var].tolist()"
   ]
  },
  {
   "cell_type": "code",
   "execution_count": null,
   "metadata": {},
   "outputs": [],
   "source": [
    "# nbg.fit(train_embeddings,classes)\n",
    "# nbb.fit(train_embeddings,classes)\n",
    "# lg.fit(train_embeddings,classes)\n",
    "svm.fit(train_embeddings,classes)"
   ]
  },
  {
   "cell_type": "code",
   "execution_count": null,
   "metadata": {},
   "outputs": [],
   "source": [
    "# classesNBG = nbg.predict(test_embeddings)\n",
    "# classesNBB = nbb.predict(test_embeddings)\n",
    "# classesLG = lg.predict(test_embeddings)\n",
    "classesSVM = svm.predict(test_embeddings)"
   ]
  },
  {
   "cell_type": "code",
   "execution_count": null,
   "metadata": {},
   "outputs": [],
   "source": [
    "metrics = prfs(classes_to_check, classesSVM, pos_label = 0, average = 'binary')"
   ]
  },
  {
   "cell_type": "code",
   "execution_count": null,
   "metadata": {},
   "outputs": [],
   "source": [
    "metrics"
   ]
  },
  {
   "cell_type": "markdown",
   "metadata": {},
   "source": [
    "### То же самое, только с SVD векторами"
   ]
  },
  {
   "cell_type": "code",
   "execution_count": 10,
   "metadata": {},
   "outputs": [],
   "source": [
    "import gensim\n",
    "import pandas as pd\n",
    "import pymorphy2\n",
    "import pprint\n",
    "from collections import defaultdict\n",
    "from gensim import corpora, models\n",
    "import re"
   ]
  },
  {
   "cell_type": "code",
   "execution_count": 85,
   "metadata": {},
   "outputs": [],
   "source": [
    "morph = pymorphy2.MorphAnalyzer()\n",
    "frequency = defaultdict(int)\n",
    "from rustoplist import stopwords"
   ]
  },
  {
   "cell_type": "code",
   "execution_count": 5,
   "metadata": {},
   "outputs": [],
   "source": [
    "def tokenize(document):\n",
    "    '''\n",
    "    Токенизатор. Фильтрует текст от пунктуации, цифр, если они не являются частью слова \n",
    "    (чтобы оставить токены типа \"ТЕЛЕ2\", \"2gis\" и т.п), множественных пробелов.\n",
    "    ''' \n",
    "    punc_1 = re.compile(r'[\\.,;:\\!\\?/\\|\\\\@#\\$%\\^\\&\\*)(_=\\+\\]\\[}{\"`~<>»«\\'@]')\n",
    "    punc_2 = re.compile(r'[،;؛¿!\"\\])}»›”؟¡%٪°±©®।॥…“‘„‚«‹「『\\–—]')\n",
    "    document = document.lower()\n",
    "    document = re.sub(punc_1, ' ', document)\n",
    "    document = re.sub(punc_2, ' ', document)\n",
    "    document = re.sub(r'(?<!\\w)\\d+|\\d+(?!\\w)', ' ', document)\n",
    "    document = re.sub(r'\\s+', ' ', document)\n",
    "    for token in document.strip().split():\n",
    "        yield token"
   ]
  },
  {
   "cell_type": "code",
   "execution_count": 6,
   "metadata": {},
   "outputs": [],
   "source": [
    "def morphanalyze(token):\n",
    "    '''\n",
    "    Лемматизатор. Использует морфоанализатор pymorphy2. \n",
    "    Для токенов не из словаря формирует гипотезы и возвращает \n",
    "    наиболее вероятную.\n",
    "    '''\n",
    "    hypothesis = morph.parse(token)[0]\n",
    "    lemma = hypothesis.normal_form\n",
    "    return lemma"
   ]
  },
  {
   "cell_type": "code",
   "execution_count": 7,
   "metadata": {},
   "outputs": [],
   "source": [
    "def applyCutoff(texts, cutoff):\n",
    "    '''\n",
    "    Удаление редких слов. Порог задается вручную.\n",
    "    '''\n",
    "    for text in texts:\n",
    "        for token in text:\n",
    "            frequency[token] += 1\n",
    "    new_texts = [[token for token in text if frequency[token] >= cutoff]\n",
    "                for text in texts]\n",
    "    return new_texts"
   ]
  },
  {
   "cell_type": "code",
   "execution_count": 8,
   "metadata": {},
   "outputs": [],
   "source": [
    "def preproc(documents, cutoff=2, stoplist=stopwords):\n",
    "    '''\n",
    "    Подготовка текстовых данных к извлечению тематик.\n",
    "    '''\n",
    "    texts = []\n",
    "\n",
    "    if stoplist is not None:\n",
    "        for document in documents:\n",
    "            text = []\n",
    "            for token in tokenize(document):\n",
    "                token = morphanalyze(token)\n",
    "                if token not in stoplist:\n",
    "                    text.append(token)\n",
    "            texts.append(text)\n",
    "        new_texts = applyCutoff(texts, cutoff)\n",
    "\n",
    "    else:\n",
    "        for document in documents:\n",
    "            text = []\n",
    "            for token in tokenize(document):\n",
    "                token = morphanalyze(token)\n",
    "                text.append(token)\n",
    "            texts.append(text)\n",
    "        new_texts = applyCutoff(texts, cutoff)\n",
    "\n",
    "    del texts\n",
    "    return new_texts"
   ]
  },
  {
   "cell_type": "code",
   "execution_count": 11,
   "metadata": {},
   "outputs": [],
   "source": [
    "data = pd.read_csv('data.csv', sep=';')\n",
    "text_var = 'text'\n",
    "class_var = 'mark'\n",
    "data = data[(data[class_var] != -1)]\n",
    "marks_new = []\n",
    "for i, mark in enumerate(data[class_var]):\n",
    "    if mark == 2:\n",
    "        marks_new.append(1)\n",
    "    else:\n",
    "        marks_new.append(mark)\n",
    "class_var = 'class_new'\n",
    "data[class_var] = marks_new\n",
    "del marks_new"
   ]
  },
  {
   "cell_type": "code",
   "execution_count": 86,
   "metadata": {},
   "outputs": [],
   "source": [
    "texts = data[text_var]\n",
    "ids = data['id']"
   ]
  },
  {
   "cell_type": "code",
   "execution_count": 87,
   "metadata": {},
   "outputs": [],
   "source": [
    "texts_preproc = preproc(texts)"
   ]
  },
  {
   "cell_type": "code",
   "execution_count": 98,
   "metadata": {},
   "outputs": [],
   "source": [
    "dictionary = corpora.Dictionary(texts_preproc)\n",
    "corpus = [dictionary.doc2bow(text) for text in texts_preproc]"
   ]
  },
  {
   "cell_type": "code",
   "execution_count": 68,
   "metadata": {},
   "outputs": [
    {
     "name": "stdout",
     "output_type": "stream",
     "text": [
      "[]\n"
     ]
    }
   ],
   "source": [
    "pprint.pprint(corpus[0])"
   ]
  },
  {
   "cell_type": "code",
   "execution_count": 19,
   "metadata": {},
   "outputs": [],
   "source": [
    "tfidf = models.TfidfModel(corpus)\n",
    "corpus_weighted = tfidf[corpus]"
   ]
  },
  {
   "cell_type": "code",
   "execution_count": 67,
   "metadata": {},
   "outputs": [
    {
     "data": {
      "text/plain": [
       "[]"
      ]
     },
     "execution_count": 67,
     "metadata": {},
     "output_type": "execute_result"
    }
   ],
   "source": [
    "corpus_weighted[0]"
   ]
  },
  {
   "cell_type": "code",
   "execution_count": 23,
   "metadata": {},
   "outputs": [],
   "source": [
    "model = models.LsiModel(corpus_weighted, id2word=dictionary, num_topics=300)"
   ]
  },
  {
   "cell_type": "code",
   "execution_count": 24,
   "metadata": {
    "collapsed": true
   },
   "outputs": [
    {
     "data": {
      "text/plain": [
       "[(0,\n",
       "  '0.579*\"комната\" + 0.551*\"тёплый\" + 0.233*\"скисание\" + 0.208*\"молоко\" + 0.191*\"являться\" + 0.183*\"явление\" + 0.177*\"химический\" + 0.165*\"вещество\" + 0.135*\"состав\" + 0.127*\"процесс\"'),\n",
       " (1,\n",
       "  '-0.354*\"комната\" + -0.334*\"тёплый\" + 0.289*\"являться\" + 0.287*\"явление\" + 0.287*\"вещество\" + 0.262*\"химический\" + 0.241*\"состав\" + 0.237*\"новое\" + 0.206*\"процесс\" + 0.206*\"образоваться\"'),\n",
       " (2,\n",
       "  '-0.494*\"свет\" + -0.445*\"металл\" + -0.417*\"излучение\" + -0.396*\"раскалить\" + 0.246*\"новое\" + 0.229*\"образоваться\" + 0.173*\"вещество\" + -0.107*\"радуга\" + -0.094*\"появление\" + -0.088*\"дождь\"'),\n",
       " (3,\n",
       "  '-0.505*\"новое\" + -0.473*\"образоваться\" + 0.424*\"состав\" + 0.351*\"меняться\" + 0.213*\"изменяться\" + -0.145*\"вещество\" + -0.131*\"свет\" + -0.123*\"металл\" + -0.112*\"излучение\" + -0.110*\"раскалить\"'),\n",
       " (4,\n",
       "  '0.462*\"происходить\" + 0.366*\"окисление\" + 0.349*\"реакция\" + 0.311*\"процесс\" + -0.309*\"состав\" + -0.305*\"меняться\" + -0.184*\"изменяться\" + -0.169*\"вещество\" + 0.147*\"химический\" + -0.145*\"новое\"')]"
      ]
     },
     "execution_count": 24,
     "metadata": {},
     "output_type": "execute_result"
    }
   ],
   "source": [
    "model.show_topics()[:5]"
   ]
  },
  {
   "cell_type": "code",
   "execution_count": 66,
   "metadata": {},
   "outputs": [
    {
     "data": {
      "text/plain": [
       "[]"
      ]
     },
     "execution_count": 66,
     "metadata": {},
     "output_type": "execute_result"
    }
   ],
   "source": [
    "model[corpus_weighted[0]]"
   ]
  },
  {
   "cell_type": "code",
   "execution_count": 63,
   "metadata": {},
   "outputs": [
    {
     "name": "stdout",
     "output_type": "stream",
     "text": [
      "644\n",
      "976\n",
      "2114\n",
      "2196\n",
      "2433\n",
      "2473\n"
     ]
    }
   ],
   "source": [
    "embeddings = {}\n",
    "\n",
    "for i, ID in enumerate(ids):\n",
    "    embedding_raw = model[corpus_weighted[i]]\n",
    "    embedding = [value for ind, value in embedding_raw]\n",
    "    embeddings.update({ID: embedding})"
   ]
  },
  {
   "cell_type": "code",
   "execution_count": 38,
   "metadata": {},
   "outputs": [],
   "source": [
    "train_vol = 0.7\n",
    "train, test = train_test_split(data, train_size = train_vol, random_state = 99, stratify = data[class_var])\n",
    "train = train.drop_duplicates(subset=[text_var])"
   ]
  },
  {
   "cell_type": "code",
   "execution_count": 39,
   "metadata": {},
   "outputs": [
    {
     "name": "stderr",
     "output_type": "stream",
     "text": [
      "C:\\Users\\ruskdu\\AppData\\Local\\Continuum\\anaconda3\\lib\\site-packages\\ipykernel_launcher.py:8: SettingWithCopyWarning: \n",
      "A value is trying to be set on a copy of a slice from a DataFrame.\n",
      "Try using .loc[row_indexer,col_indexer] = value instead\n",
      "\n",
      "See the caveats in the documentation: https://pandas.pydata.org/pandas-docs/stable/user_guide/indexing.html#returning-a-view-versus-a-copy\n",
      "  \n"
     ]
    }
   ],
   "source": [
    "check = []\n",
    "train_data = train[text_var].tolist()\n",
    "for text in test[text_var]:\n",
    "    if text not in train_data:\n",
    "        check.append('KEEP')\n",
    "    else:\n",
    "        check.append('IGNORE')\n",
    "test['check'] = check\n",
    "test = test.loc[test['check'] == 'KEEP']\n",
    "test = test.drop(['check'], axis=1)\n",
    "del check"
   ]
  },
  {
   "cell_type": "code",
   "execution_count": 54,
   "metadata": {},
   "outputs": [],
   "source": [
    "train_embeddings = [embeddings[ID] for ID in train['id'].tolist()]\n",
    "test_embeddings = [embeddings[ID] for ID in test['id'].tolist()]"
   ]
  },
  {
   "cell_type": "code",
   "execution_count": 42,
   "metadata": {},
   "outputs": [],
   "source": [
    "svm = SVC(kernel='poly', gamma='scale', probability=True)"
   ]
  },
  {
   "cell_type": "code",
   "execution_count": 44,
   "metadata": {},
   "outputs": [],
   "source": [
    "classes = train[class_var].tolist()\n",
    "classes_to_check = test[class_var].tolist()"
   ]
  },
  {
   "cell_type": "code",
   "execution_count": 49,
   "metadata": {},
   "outputs": [
    {
     "ename": "ValueError",
     "evalue": "setting an array element with a sequence.",
     "output_type": "error",
     "traceback": [
      "\u001b[1;31m---------------------------------------------------------------------------\u001b[0m",
      "\u001b[1;31mValueError\u001b[0m                                Traceback (most recent call last)",
      "\u001b[1;32m<ipython-input-49-1564caf93272>\u001b[0m in \u001b[0;36m<module>\u001b[1;34m\u001b[0m\n\u001b[1;32m----> 1\u001b[1;33m \u001b[0msvm\u001b[0m\u001b[1;33m.\u001b[0m\u001b[0mfit\u001b[0m\u001b[1;33m(\u001b[0m\u001b[0mtrain_embeddings\u001b[0m\u001b[1;33m,\u001b[0m\u001b[0mclasses\u001b[0m\u001b[1;33m)\u001b[0m\u001b[1;33m\u001b[0m\u001b[1;33m\u001b[0m\u001b[0m\n\u001b[0m",
      "\u001b[1;32m~\\AppData\\Local\\Continuum\\anaconda3\\lib\\site-packages\\sklearn\\svm\\_base.py\u001b[0m in \u001b[0;36mfit\u001b[1;34m(self, X, y, sample_weight)\u001b[0m\n\u001b[0;32m    146\u001b[0m         X, y = check_X_y(X, y, dtype=np.float64,\n\u001b[0;32m    147\u001b[0m                          \u001b[0morder\u001b[0m\u001b[1;33m=\u001b[0m\u001b[1;34m'C'\u001b[0m\u001b[1;33m,\u001b[0m \u001b[0maccept_sparse\u001b[0m\u001b[1;33m=\u001b[0m\u001b[1;34m'csr'\u001b[0m\u001b[1;33m,\u001b[0m\u001b[1;33m\u001b[0m\u001b[1;33m\u001b[0m\u001b[0m\n\u001b[1;32m--> 148\u001b[1;33m                          accept_large_sparse=False)\n\u001b[0m\u001b[0;32m    149\u001b[0m         \u001b[0my\u001b[0m \u001b[1;33m=\u001b[0m \u001b[0mself\u001b[0m\u001b[1;33m.\u001b[0m\u001b[0m_validate_targets\u001b[0m\u001b[1;33m(\u001b[0m\u001b[0my\u001b[0m\u001b[1;33m)\u001b[0m\u001b[1;33m\u001b[0m\u001b[1;33m\u001b[0m\u001b[0m\n\u001b[0;32m    150\u001b[0m \u001b[1;33m\u001b[0m\u001b[0m\n",
      "\u001b[1;32m~\\AppData\\Local\\Continuum\\anaconda3\\lib\\site-packages\\sklearn\\utils\\validation.py\u001b[0m in \u001b[0;36mcheck_X_y\u001b[1;34m(X, y, accept_sparse, accept_large_sparse, dtype, order, copy, force_all_finite, ensure_2d, allow_nd, multi_output, ensure_min_samples, ensure_min_features, y_numeric, warn_on_dtype, estimator)\u001b[0m\n\u001b[0;32m    753\u001b[0m                     \u001b[0mensure_min_features\u001b[0m\u001b[1;33m=\u001b[0m\u001b[0mensure_min_features\u001b[0m\u001b[1;33m,\u001b[0m\u001b[1;33m\u001b[0m\u001b[1;33m\u001b[0m\u001b[0m\n\u001b[0;32m    754\u001b[0m                     \u001b[0mwarn_on_dtype\u001b[0m\u001b[1;33m=\u001b[0m\u001b[0mwarn_on_dtype\u001b[0m\u001b[1;33m,\u001b[0m\u001b[1;33m\u001b[0m\u001b[1;33m\u001b[0m\u001b[0m\n\u001b[1;32m--> 755\u001b[1;33m                     estimator=estimator)\n\u001b[0m\u001b[0;32m    756\u001b[0m     \u001b[1;32mif\u001b[0m \u001b[0mmulti_output\u001b[0m\u001b[1;33m:\u001b[0m\u001b[1;33m\u001b[0m\u001b[1;33m\u001b[0m\u001b[0m\n\u001b[0;32m    757\u001b[0m         y = check_array(y, 'csr', force_all_finite=True, ensure_2d=False,\n",
      "\u001b[1;32m~\\AppData\\Local\\Continuum\\anaconda3\\lib\\site-packages\\sklearn\\utils\\validation.py\u001b[0m in \u001b[0;36mcheck_array\u001b[1;34m(array, accept_sparse, accept_large_sparse, dtype, order, copy, force_all_finite, ensure_2d, allow_nd, ensure_min_samples, ensure_min_features, warn_on_dtype, estimator)\u001b[0m\n\u001b[0;32m    529\u001b[0m                     \u001b[0marray\u001b[0m \u001b[1;33m=\u001b[0m \u001b[0marray\u001b[0m\u001b[1;33m.\u001b[0m\u001b[0mastype\u001b[0m\u001b[1;33m(\u001b[0m\u001b[0mdtype\u001b[0m\u001b[1;33m,\u001b[0m \u001b[0mcasting\u001b[0m\u001b[1;33m=\u001b[0m\u001b[1;34m\"unsafe\"\u001b[0m\u001b[1;33m,\u001b[0m \u001b[0mcopy\u001b[0m\u001b[1;33m=\u001b[0m\u001b[1;32mFalse\u001b[0m\u001b[1;33m)\u001b[0m\u001b[1;33m\u001b[0m\u001b[1;33m\u001b[0m\u001b[0m\n\u001b[0;32m    530\u001b[0m                 \u001b[1;32melse\u001b[0m\u001b[1;33m:\u001b[0m\u001b[1;33m\u001b[0m\u001b[1;33m\u001b[0m\u001b[0m\n\u001b[1;32m--> 531\u001b[1;33m                     \u001b[0marray\u001b[0m \u001b[1;33m=\u001b[0m \u001b[0mnp\u001b[0m\u001b[1;33m.\u001b[0m\u001b[0masarray\u001b[0m\u001b[1;33m(\u001b[0m\u001b[0marray\u001b[0m\u001b[1;33m,\u001b[0m \u001b[0morder\u001b[0m\u001b[1;33m=\u001b[0m\u001b[0morder\u001b[0m\u001b[1;33m,\u001b[0m \u001b[0mdtype\u001b[0m\u001b[1;33m=\u001b[0m\u001b[0mdtype\u001b[0m\u001b[1;33m)\u001b[0m\u001b[1;33m\u001b[0m\u001b[1;33m\u001b[0m\u001b[0m\n\u001b[0m\u001b[0;32m    532\u001b[0m             \u001b[1;32mexcept\u001b[0m \u001b[0mComplexWarning\u001b[0m\u001b[1;33m:\u001b[0m\u001b[1;33m\u001b[0m\u001b[1;33m\u001b[0m\u001b[0m\n\u001b[0;32m    533\u001b[0m                 raise ValueError(\"Complex data not supported\\n\"\n",
      "\u001b[1;32m~\\AppData\\Local\\Continuum\\anaconda3\\lib\\site-packages\\numpy\\core\\numeric.py\u001b[0m in \u001b[0;36masarray\u001b[1;34m(a, dtype, order)\u001b[0m\n\u001b[0;32m    536\u001b[0m \u001b[1;33m\u001b[0m\u001b[0m\n\u001b[0;32m    537\u001b[0m     \"\"\"\n\u001b[1;32m--> 538\u001b[1;33m     \u001b[1;32mreturn\u001b[0m \u001b[0marray\u001b[0m\u001b[1;33m(\u001b[0m\u001b[0ma\u001b[0m\u001b[1;33m,\u001b[0m \u001b[0mdtype\u001b[0m\u001b[1;33m,\u001b[0m \u001b[0mcopy\u001b[0m\u001b[1;33m=\u001b[0m\u001b[1;32mFalse\u001b[0m\u001b[1;33m,\u001b[0m \u001b[0morder\u001b[0m\u001b[1;33m=\u001b[0m\u001b[0morder\u001b[0m\u001b[1;33m)\u001b[0m\u001b[1;33m\u001b[0m\u001b[1;33m\u001b[0m\u001b[0m\n\u001b[0m\u001b[0;32m    539\u001b[0m \u001b[1;33m\u001b[0m\u001b[0m\n\u001b[0;32m    540\u001b[0m \u001b[1;33m\u001b[0m\u001b[0m\n",
      "\u001b[1;31mValueError\u001b[0m: setting an array element with a sequence."
     ]
    }
   ],
   "source": [
    "svm.fit(train_embeddings,classes)"
   ]
  },
  {
   "cell_type": "code",
   "execution_count": null,
   "metadata": {},
   "outputs": [],
   "source": []
  },
  {
   "cell_type": "markdown",
   "metadata": {},
   "source": [
    "### Код для проверки среднего результата на 10 прогонах"
   ]
  },
  {
   "cell_type": "code",
   "execution_count": null,
   "metadata": {},
   "outputs": [],
   "source": [
    "df_results = pd.DataFrame(columns=['classifier', 'train_size', 'average_precision',\n",
    "                                   'average_recall', 'average_fscore'])\n",
    "precision_all = {'NBG':[], 'NBB':[], 'SVM':[], 'LG':[]}\n",
    "recall_all = {'NBG':[], 'NBB':[], 'SVM':[], 'LG':[]}\n",
    "fscore_all = {'NBG':[], 'NBB':[], 'SVM':[], 'LG':[]}\n",
    "\n",
    "data = pd.read_excel('/opt/projects/docs_to_vecs/sample_data/mcko_random_sample_C1_9602.xlsx')\n",
    "\n",
    "text_var = 'info_new'\n",
    "class_var = 'mark'\n",
    "\n",
    "data = data.loc[(data[class_var] != -1)]\n",
    "\n",
    "marks_new = []\n",
    "for i, mark in enumerate(data[class_var]):\n",
    "    if mark == 2:\n",
    "        marks_new.append(1)\n",
    "    else:\n",
    "        marks_new.append(mark)\n",
    "class_var = 'class_new'\n",
    "data[class_var] = marks_new\n",
    "\n",
    "train_vol = 0.7\n",
    "\n",
    "for i in range(10):\n",
    "    train, tmp = train_test_split(data, train_size = train_vol, stratify = data[class_var])\n",
    "    train = train.drop_duplicates(subset=[text_var])\n",
    "    test = data\n",
    "    check = []\n",
    "    train_data = train[text_var].tolist()\n",
    "    for text in data[text_var]:\n",
    "        if text not in train_data:\n",
    "            check.append('KEEP')\n",
    "        else:\n",
    "            check.append('IGNORE')\n",
    "    test['check'] = check\n",
    "    test = test.loc[test['check'] == 'KEEP']\n",
    "\n",
    "    train_embeddings = []\n",
    "    for text in train_data:\n",
    "        embedding = embed(str(text))[0]\n",
    "        train_embeddings.append(embedding)\n",
    "    print('Прогон {}, вектора для обучения готовы.'.format(i+1))\n",
    "\n",
    "    test_embeddings = []\n",
    "    for text in test[text_var]:\n",
    "        embedding = embed(str(text))[0]\n",
    "        test_embeddings.append(embedding)\n",
    "    print('Прогон {}, вектора для тестирования готовы.'.format(i+1))\n",
    "\n",
    "    nbg = GaussianNB()\n",
    "    nbb = BernoulliNB()\n",
    "    svm = SVC(kernel='poly', gamma='scale', probability=True)\n",
    "    lg = LogisticRegressionCV(cv=5, multi_class='ovr', max_iter=1200)\n",
    "\n",
    "    classes = train[class_var].tolist()\n",
    "\n",
    "    nbg.fit(train_embeddings,classes)\n",
    "    nbb.fit(train_embeddings,classes)\n",
    "    svm.fit(train_embeddings,classes)\n",
    "    lg.fit(train_embeddings,classes)\n",
    "    print('Прогон {}, все модели обучены.'.format(i+1))\n",
    "\n",
    "    target = 0\n",
    "\n",
    "    classesNBG = nbg.predict(test_embeddings)\n",
    "    scoresNBG = [score[target] for score in nbg.predict_proba(test_embeddings)]\n",
    "    classesNBB = nbb.predict(test_embeddings)\n",
    "    scoresNBB = [score[target] for score in nbb.predict_proba(test_embeddings)]\n",
    "    classesSVM = svm.predict(test_embeddings)\n",
    "    scoresSVM = [score[target] for score in svm.predict_proba(test_embeddings)]\n",
    "    classesLG = lg.predict(test_embeddings)\n",
    "    scoresLG = [score[target] for score in lg.predict_proba(test_embeddings)]\n",
    "\n",
    "    classes_to_check = test[class_var].tolist()\n",
    "\n",
    "    precisionNBG, recallNBG, fscoreNBG = prfs(classes_to_check, classesNBG, pos_label = 0, average = 'binary')[0:3]\n",
    "    precisionNBB, recallNBB, fscoreNBB = prfs(classes_to_check, classesNBB, pos_label = 0, average = 'binary')[0:3]\n",
    "    precisionSVM, recallSVM, fscoreSVM = prfs(classes_to_check, classesSVM, pos_label = 0, average = 'binary')[0:3]\n",
    "    precisionLG, recallLG, fscoreLG = prfs(classes_to_check, classesLG, pos_label = 0, average = 'binary')[0:3]\n",
    "\n",
    "    precision_all['NBG'].append(precisionNBG)\n",
    "    precision_all['NBB'].append(precisionNBB)\n",
    "    precision_all['SVM'].append(precisionSVM)\n",
    "    precision_all['LG'].append(precisionLG)\n",
    "    recall_all['NBG'].append(recallNBG)\n",
    "    recall_all['NBB'].append(recallNBB)\n",
    "    recall_all['SVM'].append(recallSVM)\n",
    "    recall_all['LG'].append(recallLG)\n",
    "    fscore_all['NBG'].append(fscoreNBG)\n",
    "    fscore_all['NBB'].append(fscoreNBB)\n",
    "    fscore_all['SVM'].append(fscoreSVM)\n",
    "    fscore_all['LG'].append(fscoreLG)\n",
    "    print('Прогон {} закончен.'.format(i+1))\n",
    "\n",
    "\n",
    "for model in ['NBG', 'NBB', 'SVM', 'LG']:\n",
    "    df_results = df_results.append({'classifier': model,\n",
    "                                'average_precision':sum(precision_all[model])/10,\n",
    "                                'average_recall':sum(recall_all[model])/10,\n",
    "                                'average_fscore':sum(fscore_all[model])/10},\n",
    "                                 ignore_index=True)\n",
    "\n",
    "df_results.set_index('classifier')\n",
    "df_results_t = df_results.transpose()\n",
    "df_results_t.columns = df_results_t.iloc[0]\n",
    "df_results_t.reset_index(inplace=True)\n",
    "df_results_t = df_results_t.drop([0], axis=0)\n",
    "df_results_t.plot.bar('index')"
   ]
  }
 ],
 "metadata": {
  "kernelspec": {
   "display_name": "Python 3",
   "language": "python",
   "name": "python3"
  },
  "language_info": {
   "codemirror_mode": {
    "name": "ipython",
    "version": 3
   },
   "file_extension": ".py",
   "mimetype": "text/x-python",
   "name": "python",
   "nbconvert_exporter": "python",
   "pygments_lexer": "ipython3",
   "version": "3.7.3"
  }
 },
 "nbformat": 4,
 "nbformat_minor": 4
}

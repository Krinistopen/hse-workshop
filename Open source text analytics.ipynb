{
 "cells": [
  {
   "cell_type": "code",
   "execution_count": null,
   "metadata": {},
   "outputs": [],
   "source": [
    "!pip install -U tensorflow-text"
   ]
  },
  {
   "cell_type": "code",
   "execution_count": null,
   "metadata": {},
   "outputs": [],
   "source": [
    "!wget "
   ]
  },
  {
   "cell_type": "code",
   "execution_count": null,
   "metadata": {},
   "outputs": [],
   "source": [
    "import tensorflow_hub as hub\n",
    "import tensorflow as tf\n",
    "import numpy as np\n",
    "import tensorflow_text\n",
    "from google.colab import files\n",
    "import pandas as pd\n",
    "\n",
    "from sklearn.naive_bayes import GaussianNB, BernoulliNB\n",
    "from sklearn.svm import SVC\n",
    "from sklearn.linear_model import LogisticRegressionCV\n",
    "from sklearn.model_selection import train_test_split\n",
    "from sklearn.metrics import precision_recall_fscore_support as prfs"
   ]
  },
  {
   "cell_type": "code",
   "execution_count": null,
   "metadata": {},
   "outputs": [],
   "source": [
    "embed = hub.load(\"https://tfhub.dev/google/universal-sentence-encoder-multilingual/3\")"
   ]
  },
  {
   "cell_type": "code",
   "execution_count": null,
   "metadata": {},
   "outputs": [],
   "source": [
    "from google.colab import drive\n",
    "drive.mount('/content/drive')"
   ]
  },
  {
   "cell_type": "code",
   "execution_count": null,
   "metadata": {},
   "outputs": [],
   "source": [
    "data = pd.read_csv('drive/MyDrive/data.csv', sep=';')\n",
    "text_var = 'text'\n",
    "class_var = 'mark'"
   ]
  },
  {
   "cell_type": "code",
   "execution_count": null,
   "metadata": {},
   "outputs": [],
   "source": [
    "data.head() "
   ]
  },
  {
   "cell_type": "code",
   "execution_count": null,
   "metadata": {},
   "outputs": [],
   "source": [
    "df = data[class_var].value_counts(normalize=True) * 100\n",
    "df.plot.bar(x=class_var)"
   ]
  },
  {
   "cell_type": "code",
   "execution_count": null,
   "metadata": {},
   "outputs": [],
   "source": [
    "data = data[(data[class_var] != -1)]"
   ]
  },
  {
   "cell_type": "code",
   "execution_count": null,
   "metadata": {},
   "outputs": [],
   "source": [
    "marks_new = []\n",
    "for i, mark in enumerate(data[class_var]):\n",
    "    if mark == 2:\n",
    "        marks_new.append(1)\n",
    "    else:\n",
    "        marks_new.append(mark)\n",
    "class_var = 'class_new'\n",
    "data[class_var] = marks_new\n",
    "del marks_new"
   ]
  },
  {
   "cell_type": "code",
   "execution_count": null,
   "metadata": {},
   "outputs": [],
   "source": [
    "import gensim\n",
    "import pymorphy2\n",
    "import pprint\n",
    "from collections import defaultdict\n",
    "from gensim import corpora\n",
    "from gensim import models\n",
    "import re"
   ]
  },
  {
   "cell_type": "code",
   "execution_count": null,
   "metadata": {},
   "outputs": [],
   "source": [
    "morph = pymorphy2.MorphAnalyzer()\n"
   ]
  },
  {
   "cell_type": "code",
   "execution_count": 1,
   "metadata": {},
   "outputs": [],
   "source": [
    "from gensim.parsing.preprocessing import remove_stopwords"
   ]
  },
  {
   "cell_type": "code",
   "execution_count": 2,
   "metadata": {},
   "outputs": [
    {
     "data": {
      "text/plain": [
       "'В суде США начинается процесс против россиянина, рассылавшего спам.'"
      ]
     },
     "execution_count": 2,
     "metadata": {},
     "output_type": "execute_result"
    }
   ],
   "source": [
    "remove_stopwords('В суде США начинается процесс против россиянина, рассылавшего спам.')"
   ]
  },
  {
   "cell_type": "code",
   "execution_count": null,
   "metadata": {},
   "outputs": [],
   "source": []
  },
  {
   "cell_type": "code",
   "execution_count": null,
   "metadata": {},
   "outputs": [],
   "source": []
  },
  {
   "cell_type": "code",
   "execution_count": null,
   "metadata": {},
   "outputs": [],
   "source": []
  },
  {
   "cell_type": "code",
   "execution_count": null,
   "metadata": {},
   "outputs": [],
   "source": []
  },
  {
   "cell_type": "code",
   "execution_count": null,
   "metadata": {},
   "outputs": [],
   "source": []
  },
  {
   "cell_type": "code",
   "execution_count": null,
   "metadata": {},
   "outputs": [],
   "source": []
  },
  {
   "cell_type": "code",
   "execution_count": null,
   "metadata": {},
   "outputs": [],
   "source": [
    "train_vol = 0.7"
   ]
  },
  {
   "cell_type": "code",
   "execution_count": null,
   "metadata": {},
   "outputs": [],
   "source": [
    "train, test = train_test_split(data, train_size = train_vol, random_state = 99, stratify = data[class_var])\n",
    "train = train.drop_duplicates(subset=[text_var])"
   ]
  },
  {
   "cell_type": "code",
   "execution_count": null,
   "metadata": {},
   "outputs": [],
   "source": [
    "check = []\n",
    "train_data = train[text_var].tolist()\n",
    "for text in test[text_var]:\n",
    "    if text not in train_data:\n",
    "        check.append('KEEP')\n",
    "    else:\n",
    "        check.append('IGNORE')\n",
    "test['check'] = check\n",
    "test = test.loc[test['check'] == 'KEEP']\n",
    "test = test.drop(['check'], axis=1)\n",
    "del check"
   ]
  },
  {
   "cell_type": "code",
   "execution_count": null,
   "metadata": {},
   "outputs": [],
   "source": [
    "train_embeddings = []\n",
    "for text in train_data:\n",
    "    embedding = embed(str(text))[0]\n",
    "    train_embeddings.append(embedding)"
   ]
  },
  {
   "cell_type": "code",
   "execution_count": null,
   "metadata": {},
   "outputs": [],
   "source": [
    "test_embeddings = []\n",
    "for text in test[text_var]:\n",
    "    embedding = embed(str(text))[0]\n",
    "    test_embeddings.append(embedding)"
   ]
  },
  {
   "cell_type": "code",
   "execution_count": null,
   "metadata": {},
   "outputs": [],
   "source": [
    "# nbg = GaussianNB()\n",
    "# nbb = BernoulliNB()\n",
    "# lg = LogisticRegressionCV(cv=5, multi_class='ovr', max_iter=1200)\n",
    "svm = SVC(kernel='poly', gamma='scale', probability=True)"
   ]
  },
  {
   "cell_type": "code",
   "execution_count": null,
   "metadata": {},
   "outputs": [],
   "source": [
    "classes = train[class_var].tolist()\n",
    "classes_to_check = test[class_var].tolist()"
   ]
  },
  {
   "cell_type": "code",
   "execution_count": null,
   "metadata": {},
   "outputs": [],
   "source": [
    "# nbg.fit(train_embeddings,classes)\n",
    "# nbb.fit(train_embeddings,classes)\n",
    "# lg.fit(train_embeddings,classes)\n",
    "svm.fit(train_embeddings,classes)"
   ]
  },
  {
   "cell_type": "code",
   "execution_count": null,
   "metadata": {},
   "outputs": [],
   "source": [
    "# classesNBG = nbg.predict(test_embeddings)\n",
    "# classesNBB = nbb.predict(test_embeddings)\n",
    "# classesLG = lg.predict(test_embeddings)\n",
    "classesSVM = svm.predict(test_embeddings)"
   ]
  },
  {
   "cell_type": "code",
   "execution_count": null,
   "metadata": {},
   "outputs": [],
   "source": [
    "metrics = prfs(classes_to_check, classesSVM, pos_label = 0, average = 'binary')"
   ]
  },
  {
   "cell_type": "code",
   "execution_count": null,
   "metadata": {},
   "outputs": [],
   "source": [
    "metrics"
   ]
  },
  {
   "cell_type": "code",
   "execution_count": null,
   "metadata": {},
   "outputs": [],
   "source": [
    "df_results = pd.DataFrame(columns=['classifier', 'train_size', 'average_precision',\n",
    "                                   'average_recall', 'average_fscore'])\n",
    "precision_all = {'NBG':[], 'NBB':[], 'SVM':[], 'LG':[]}\n",
    "recall_all = {'NBG':[], 'NBB':[], 'SVM':[], 'LG':[]}\n",
    "fscore_all = {'NBG':[], 'NBB':[], 'SVM':[], 'LG':[]}\n",
    "\n",
    "data = pd.read_excel('/opt/projects/docs_to_vecs/sample_data/mcko_random_sample_C1_9602.xlsx')\n",
    "\n",
    "text_var = 'info_new'\n",
    "class_var = 'mark'\n",
    "\n",
    "data = data.loc[(data[class_var] != -1)]\n",
    "\n",
    "marks_new = []\n",
    "for i, mark in enumerate(data[class_var]):\n",
    "    if mark == 2:\n",
    "        marks_new.append(1)\n",
    "    else:\n",
    "        marks_new.append(mark)\n",
    "class_var = 'class_new'\n",
    "data[class_var] = marks_new\n",
    "\n",
    "train_vol = 0.7\n",
    "\n",
    "for i in range(10):\n",
    "    train, tmp = train_test_split(data, train_size = train_vol, stratify = data[class_var])\n",
    "    train = train.drop_duplicates(subset=[text_var])\n",
    "    test = data\n",
    "    check = []\n",
    "    train_data = train[text_var].tolist()\n",
    "    for text in data[text_var]:\n",
    "        if text not in train_data:\n",
    "            check.append('KEEP')\n",
    "        else:\n",
    "            check.append('IGNORE')\n",
    "    test['check'] = check\n",
    "    test = test.loc[test['check'] == 'KEEP']\n",
    "\n",
    "    train_embeddings = []\n",
    "    for text in train_data:\n",
    "        embedding = embed(str(text))[0]\n",
    "        train_embeddings.append(embedding)\n",
    "    print('Прогон {}, вектора для обучения готовы.'.format(i+1))\n",
    "\n",
    "    test_embeddings = []\n",
    "    for text in test[text_var]:\n",
    "        embedding = embed(str(text))[0]\n",
    "        test_embeddings.append(embedding)\n",
    "    print('Прогон {}, вектора для тестирования готовы.'.format(i+1))\n",
    "\n",
    "    nbg = GaussianNB()\n",
    "    nbb = BernoulliNB()\n",
    "    svm = SVC(kernel='poly', gamma='scale', probability=True)\n",
    "    lg = LogisticRegressionCV(cv=5, multi_class='ovr', max_iter=1200)\n",
    "\n",
    "    classes = train[class_var].tolist()\n",
    "\n",
    "    nbg.fit(train_embeddings,classes)\n",
    "    nbb.fit(train_embeddings,classes)\n",
    "    svm.fit(train_embeddings,classes)\n",
    "    lg.fit(train_embeddings,classes)\n",
    "    print('Прогон {}, все модели обучены.'.format(i+1))\n",
    "\n",
    "    target = 0\n",
    "\n",
    "    classesNBG = nbg.predict(test_embeddings)\n",
    "    scoresNBG = [score[target] for score in nbg.predict_proba(test_embeddings)]\n",
    "    classesNBB = nbb.predict(test_embeddings)\n",
    "    scoresNBB = [score[target] for score in nbb.predict_proba(test_embeddings)]\n",
    "    classesSVM = svm.predict(test_embeddings)\n",
    "    scoresSVM = [score[target] for score in svm.predict_proba(test_embeddings)]\n",
    "    classesLG = lg.predict(test_embeddings)\n",
    "    scoresLG = [score[target] for score in lg.predict_proba(test_embeddings)]\n",
    "\n",
    "    classes_to_check = test[class_var].tolist()\n",
    "\n",
    "    precisionNBG, recallNBG, fscoreNBG = prfs(classes_to_check, classesNBG, pos_label = 0, average = 'binary')[0:3]\n",
    "    precisionNBB, recallNBB, fscoreNBB = prfs(classes_to_check, classesNBB, pos_label = 0, average = 'binary')[0:3]\n",
    "    precisionSVM, recallSVM, fscoreSVM = prfs(classes_to_check, classesSVM, pos_label = 0, average = 'binary')[0:3]\n",
    "    precisionLG, recallLG, fscoreLG = prfs(classes_to_check, classesLG, pos_label = 0, average = 'binary')[0:3]\n",
    "\n",
    "    precision_all['NBG'].append(precisionNBG)\n",
    "    precision_all['NBB'].append(precisionNBB)\n",
    "    precision_all['SVM'].append(precisionSVM)\n",
    "    precision_all['LG'].append(precisionLG)\n",
    "    recall_all['NBG'].append(recallNBG)\n",
    "    recall_all['NBB'].append(recallNBB)\n",
    "    recall_all['SVM'].append(recallSVM)\n",
    "    recall_all['LG'].append(recallLG)\n",
    "    fscore_all['NBG'].append(fscoreNBG)\n",
    "    fscore_all['NBB'].append(fscoreNBB)\n",
    "    fscore_all['SVM'].append(fscoreSVM)\n",
    "    fscore_all['LG'].append(fscoreLG)\n",
    "    print('Прогон {} закончен.'.format(i+1))\n",
    "\n",
    "\n",
    "for model in ['NBG', 'NBB', 'SVM', 'LG']:\n",
    "    df_results = df_results.append({'classifier': model,\n",
    "                                'average_precision':sum(precision_all[model])/10,\n",
    "                                'average_recall':sum(recall_all[model])/10,\n",
    "                                'average_fscore':sum(fscore_all[model])/10},\n",
    "                                 ignore_index=True)\n",
    "\n",
    "df_results.set_index('classifier')\n",
    "df_results_t = df_results.transpose()\n",
    "df_results_t.columns = df_results_t.iloc[0]\n",
    "df_results_t.reset_index(inplace=True)\n",
    "df_results_t = df_results_t.drop([0], axis=0)\n",
    "df_results_t.plot.bar('index')"
   ]
  }
 ],
 "metadata": {
  "kernelspec": {
   "display_name": "Python 3",
   "language": "python",
   "name": "python3"
  },
  "language_info": {
   "codemirror_mode": {
    "name": "ipython",
    "version": 3
   },
   "file_extension": ".py",
   "mimetype": "text/x-python",
   "name": "python",
   "nbconvert_exporter": "python",
   "pygments_lexer": "ipython3",
   "version": "3.7.3"
  }
 },
 "nbformat": 4,
 "nbformat_minor": 4
}

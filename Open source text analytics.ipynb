{
 "cells": [
  {
   "cell_type": "code",
   "execution_count": null,
   "metadata": {},
   "outputs": [],
   "source": [
    "!pip install -U tensorflow-text"
   ]
  },
  {
   "cell_type": "code",
   "execution_count": null,
   "metadata": {},
   "outputs": [],
   "source": [
    "import tensorflow_hub as hub\n",
    "import tensorflow as tf\n",
    "import numpy as np\n",
    "import tensorflow_text\n",
    "from google.colab import files\n",
    "import pandas as pd\n",
    "\n",
    "from sklearn.svm import SVC, SVR\n",
    "from sklearn.model_selection import train_test_split\n",
    "from sklearn.metrics import precision_recall_fscore_support as prf"
   ]
  },
  {
   "cell_type": "code",
   "execution_count": null,
   "metadata": {},
   "outputs": [],
   "source": [
    "embed = hub.load(\"https://tfhub.dev/google/universal-sentence-encoder-multilingual/3\")"
   ]
  },
  {
   "cell_type": "code",
   "execution_count": null,
   "metadata": {},
   "outputs": [],
   "source": [
    "from google.colab import drive\n",
    "drive.mount('/content/drive')"
   ]
  },
  {
   "cell_type": "code",
   "execution_count": null,
   "metadata": {},
   "outputs": [],
   "source": [
    "data = pd.read_csv('drive/MyDrive/data.csv')\n",
    "text_var = 'text'\n",
    "class_var = 'mark'"
   ]
  },
  {
   "cell_type": "code",
   "execution_count": null,
   "metadata": {},
   "outputs": [],
   "source": [
    "data.head() "
   ]
  },
  {
   "cell_type": "code",
   "execution_count": null,
   "metadata": {},
   "outputs": [],
   "source": [
    "df = data[class_var].value_counts(normalize=True) * 100\n",
    "df.plot.bar(x=class_var)"
   ]
  },
  {
   "cell_type": "code",
   "execution_count": null,
   "metadata": {},
   "outputs": [],
   "source": [
    "data = data[(data[class_var] != -1)]"
   ]
  },
  {
   "cell_type": "code",
   "execution_count": null,
   "metadata": {},
   "outputs": [],
   "source": [
    "marks_new = []\n",
    "for i, mark in enumerate(data[class_var]):\n",
    "    if mark == 2:\n",
    "        marks_new.append(1)\n",
    "    else:\n",
    "        marks_new.append(mark)\n",
    "class_var = 'class_new'\n",
    "data[class_var] = marks_new\n",
    "del marks_new"
   ]
  },
  {
   "cell_type": "code",
   "execution_count": null,
   "metadata": {},
   "outputs": [],
   "source": [
    "train_vol = 0.7"
   ]
  },
  {
   "cell_type": "code",
   "execution_count": null,
   "metadata": {},
   "outputs": [],
   "source": [
    "train, test = train_test_split(data, train_size = train_vol, random_state = 99, stratify = data[class_var])\n",
    "train = train.drop_duplicates(subset=[text_var])"
   ]
  },
  {
   "cell_type": "code",
   "execution_count": null,
   "metadata": {},
   "outputs": [],
   "source": [
    "check = []\n",
    "train_data = train[text_var].tolist()\n",
    "for text in test[text_var]:\n",
    "    if text not in train_data:\n",
    "        check.append('KEEP')\n",
    "    else:\n",
    "        check.append('IGNORE')\n",
    "test['check'] = check\n",
    "test = test.loc[test['check'] == 'KEEP']\n",
    "test = test.drop(['check'], axis=1)\n",
    "del check"
   ]
  },
  {
   "cell_type": "code",
   "execution_count": null,
   "metadata": {},
   "outputs": [],
   "source": [
    "train_embeddings = []\n",
    "for text in train_data:\n",
    "    embedding = embed(str(text))[0]\n",
    "    train_embeddings.append(embedding)"
   ]
  },
  {
   "cell_type": "code",
   "execution_count": null,
   "metadata": {},
   "outputs": [],
   "source": [
    "test_embeddings = []\n",
    "for text in test[text_var]:\n",
    "    embedding = embed(str(text))[0]\n",
    "    test_embeddings.append(embedding)"
   ]
  },
  {
   "cell_type": "code",
   "execution_count": null,
   "metadata": {},
   "outputs": [],
   "source": [
    "# nbg = GaussianNB()\n",
    "# nbb = BernoulliNB()\n",
    "# lg = LogisticRegressionCV(cv=5, multi_class='ovr', max_iter=1200)\n",
    "svm = SVC(kernel='poly', gamma='scale', probability=True)"
   ]
  },
  {
   "cell_type": "code",
   "execution_count": null,
   "metadata": {},
   "outputs": [],
   "source": [
    "classes = train[class_var].tolist()\n",
    "classes_to_check = test[class_var].tolist()"
   ]
  },
  {
   "cell_type": "code",
   "execution_count": null,
   "metadata": {},
   "outputs": [],
   "source": [
    "# nbg.fit(train_embeddings,classes)\n",
    "# nbb.fit(train_embeddings,classes)\n",
    "# lg.fit(train_embeddings,classes)\n",
    "svm.fit(train_embeddings,classes)"
   ]
  },
  {
   "cell_type": "code",
   "execution_count": null,
   "metadata": {},
   "outputs": [],
   "source": [
    "# classesNBG = nbg.predict(test_embeddings)\n",
    "# classesNBB = nbb.predict(test_embeddings)\n",
    "# classesLG = lg.predict(test_embeddings)\n",
    "classesSVM = svm.predict(test_embeddings)"
   ]
  },
  {
   "cell_type": "code",
   "execution_count": null,
   "metadata": {},
   "outputs": [],
   "source": [
    "metrics = prfs(classes_to_check, classesSVM, pos_label = 0, average = 'binary')"
   ]
  },
  {
   "cell_type": "code",
   "execution_count": null,
   "metadata": {},
   "outputs": [],
   "source": []
  }
 ],
 "metadata": {
  "kernelspec": {
   "display_name": "Python 3",
   "language": "python",
   "name": "python3"
  },
  "language_info": {
   "codemirror_mode": {
    "name": "ipython",
    "version": 3
   },
   "file_extension": ".py",
   "mimetype": "text/x-python",
   "name": "python",
   "nbconvert_exporter": "python",
   "pygments_lexer": "ipython3",
   "version": "3.7.3"
  }
 },
 "nbformat": 4,
 "nbformat_minor": 4
}
